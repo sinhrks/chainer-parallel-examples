{
 "cells": [
  {
   "cell_type": "code",
   "execution_count": 1,
   "metadata": {
    "collapsed": true
   },
   "outputs": [],
   "source": [
    "%matplotlib inline"
   ]
  },
  {
   "cell_type": "code",
   "execution_count": 2,
   "metadata": {
    "collapsed": false
   },
   "outputs": [
    {
     "data": {
      "text/plain": [
       "'1.10.2'"
      ]
     },
     "execution_count": 2,
     "metadata": {},
     "output_type": "execute_result"
    }
   ],
   "source": [
    "import numpy as np\n",
    "np.set_printoptions(threshold=5, edgeitems=3)\n",
    "np.__version__"
   ]
  },
  {
   "cell_type": "code",
   "execution_count": 3,
   "metadata": {
    "collapsed": false
   },
   "outputs": [
    {
     "data": {
      "text/plain": [
       "True"
      ]
     },
     "execution_count": 3,
     "metadata": {},
     "output_type": "execute_result"
    }
   ],
   "source": [
    "import chainer.cuda as cuda\n",
    "cuda.available"
   ]
  },
  {
   "cell_type": "code",
   "execution_count": 4,
   "metadata": {
    "collapsed": false
   },
   "outputs": [
    {
     "data": {
      "text/plain": [
       "True"
      ]
     },
     "execution_count": 4,
     "metadata": {},
     "output_type": "execute_result"
    }
   ],
   "source": [
    "cuda.cudnn_enabled"
   ]
  },
  {
   "cell_type": "markdown",
   "metadata": {},
   "source": [
    "# Dask.Array としてロード"
   ]
  },
  {
   "cell_type": "code",
   "execution_count": 5,
   "metadata": {
    "collapsed": false
   },
   "outputs": [],
   "source": [
    "# download.ipynb の変数と同じ\n",
    "import os\n",
    "\n",
    "fname = 'cifar-10-python.tar.gz'\n",
    "datadir = 'data'\n",
    "tarpath = 'cifar-10-batches-py'"
   ]
  },
  {
   "cell_type": "code",
   "execution_count": 6,
   "metadata": {
    "collapsed": false
   },
   "outputs": [
    {
     "data": {
      "text/plain": [
       "'0.7.5'"
      ]
     },
     "execution_count": 6,
     "metadata": {},
     "output_type": "execute_result"
    }
   ],
   "source": [
    "# http://dask.pydata.org/en/latest/array-creation.html\n",
    "import dask\n",
    "import dask.array as da\n",
    "dask.__version__"
   ]
  },
  {
   "cell_type": "code",
   "execution_count": 7,
   "metadata": {
    "collapsed": false
   },
   "outputs": [
    {
     "data": {
      "text/plain": [
       "{('data', 0, 0): (<function __main__.load_data>, 'data_batch_1'),\n",
       " ('data', 1, 0): (<function __main__.load_data>, 'data_batch_2'),\n",
       " ('data', 2, 0): (<function __main__.load_data>, 'data_batch_3'),\n",
       " ('data', 3, 0): (<function __main__.load_data>, 'data_batch_4'),\n",
       " ('data', 4, 0): (<function __main__.load_data>, 'data_batch_5')}"
      ]
     },
     "execution_count": 7,
     "metadata": {},
     "output_type": "execute_result"
    }
   ],
   "source": [
    "from six.moves import cPickle as pickle\n",
    "\n",
    "def load(fn):\n",
    "    # https://www.cs.toronto.edu/~kriz/cifar.html\n",
    "    with open(os.path.join(datadir, tarpath, fn), 'rb') as f:\n",
    "        result = pickle.load(f)\n",
    "    return result\n",
    "\n",
    "def load_data(fn):\n",
    "    return load(fn)['data']\n",
    "\n",
    "def load_labels(fn):\n",
    "    # list から np.ndarray に変換\n",
    "    return np.array(load(fn)['labels'])\n",
    "\n",
    "dsk_data = {('data', i, 0): (load_data, 'data_batch_{0}'.format(i + 1)) for i in range(5)}\n",
    "dsk_data"
   ]
  },
  {
   "cell_type": "code",
   "execution_count": 8,
   "metadata": {
    "collapsed": false
   },
   "outputs": [
    {
     "data": {
      "text/plain": [
       "dask.array<data, shape=(50000, 3072), dtype=float32, chunksize=(10000, 3072)>"
      ]
     },
     "execution_count": 8,
     "metadata": {},
     "output_type": "execute_result"
    }
   ],
   "source": [
    "data = da.Array(dsk_data, 'data', chunks=(10000, 3 * 32 * 32),\n",
    "                dtype=np.float32, shape=(50000, 3 * 32 * 32))\n",
    "data"
   ]
  },
  {
   "cell_type": "code",
   "execution_count": 9,
   "metadata": {
    "collapsed": false
   },
   "outputs": [
    {
     "data": {
      "text/plain": [
       "array([[ 59,  43,  50, ..., 140,  84,  72],\n",
       "       [154, 126, 105, ..., 139, 142, 144],\n",
       "       [255, 253, 253, ...,  83,  83,  84],\n",
       "       ..., \n",
       "       [ 35,  40,  42, ...,  77,  66,  50],\n",
       "       [189, 186, 185, ..., 169, 171, 171],\n",
       "       [229, 236, 234, ..., 173, 162, 161]], dtype=uint8)"
      ]
     },
     "execution_count": 9,
     "metadata": {},
     "output_type": "execute_result"
    }
   ],
   "source": [
    "data.compute()"
   ]
  },
  {
   "cell_type": "code",
   "execution_count": 10,
   "metadata": {
    "collapsed": false,
    "scrolled": true
   },
   "outputs": [
    {
     "data": {
      "text/plain": [
       "(50000, 3072)"
      ]
     },
     "execution_count": 10,
     "metadata": {},
     "output_type": "execute_result"
    }
   ],
   "source": [
    "data.compute().shape"
   ]
  },
  {
   "cell_type": "code",
   "execution_count": 11,
   "metadata": {
    "collapsed": false,
    "scrolled": true
   },
   "outputs": [
    {
     "data": {
      "text/plain": [
       "{('labels', 0): (<function __main__.load_labels>, 'data_batch_1'),\n",
       " ('labels', 1): (<function __main__.load_labels>, 'data_batch_2'),\n",
       " ('labels', 2): (<function __main__.load_labels>, 'data_batch_3'),\n",
       " ('labels', 3): (<function __main__.load_labels>, 'data_batch_4'),\n",
       " ('labels', 4): (<function __main__.load_labels>, 'data_batch_5')}"
      ]
     },
     "execution_count": 11,
     "metadata": {},
     "output_type": "execute_result"
    }
   ],
   "source": [
    "dsk_labels = {('labels', i): (load_labels, 'data_batch_{0}'.format(i + 1)) for i in range(5)}\n",
    "dsk_labels"
   ]
  },
  {
   "cell_type": "code",
   "execution_count": 12,
   "metadata": {
    "collapsed": false
   },
   "outputs": [
    {
     "data": {
      "text/plain": [
       "dask.array<labels, shape=(50000,), dtype=None, chunksize=(10000,)>"
      ]
     },
     "execution_count": 12,
     "metadata": {},
     "output_type": "execute_result"
    }
   ],
   "source": [
    "labels = da.Array(dsk_labels, 'labels', chunks=(10000, ), shape=(50000, ))\n",
    "labels"
   ]
  },
  {
   "cell_type": "code",
   "execution_count": 13,
   "metadata": {
    "collapsed": false,
    "scrolled": true
   },
   "outputs": [
    {
     "data": {
      "text/plain": [
       "array([6, 9, 9, ..., 9, 1, 1])"
      ]
     },
     "execution_count": 13,
     "metadata": {},
     "output_type": "execute_result"
    }
   ],
   "source": [
    "labels.compute()"
   ]
  },
  {
   "cell_type": "code",
   "execution_count": 14,
   "metadata": {
    "collapsed": false,
    "scrolled": true
   },
   "outputs": [
    {
     "data": {
      "text/plain": [
       "(50000,)"
      ]
     },
     "execution_count": 14,
     "metadata": {},
     "output_type": "execute_result"
    }
   ],
   "source": [
    "labels.compute().shape"
   ]
  },
  {
   "cell_type": "code",
   "execution_count": 15,
   "metadata": {
    "collapsed": false
   },
   "outputs": [
    {
     "data": {
      "text/plain": [
       "array([3, 8, 8, ..., 5, 1, 7])"
      ]
     },
     "execution_count": 15,
     "metadata": {},
     "output_type": "execute_result"
    }
   ],
   "source": [
    "# テストデータのロード\n",
    "test_data = load_data('test_batch')\n",
    "test_labels = load_labels('test_batch')\n",
    "test_labels"
   ]
  },
  {
   "cell_type": "markdown",
   "metadata": {},
   "source": [
    "# データの確認"
   ]
  },
  {
   "cell_type": "code",
   "execution_count": 16,
   "metadata": {
    "collapsed": false
   },
   "outputs": [
    {
     "data": {
      "text/plain": [
       "(32, 32, 3)"
      ]
     },
     "execution_count": 16,
     "metadata": {},
     "output_type": "execute_result"
    }
   ],
   "source": [
    "nrows = 3\n",
    "ncols = 10\n",
    "\n",
    "images = data[0:nrows*ncols, :].compute()\n",
    "images = images.reshape(nrows*ncols, 3, 32, 32).transpose(0, 2, 3, 1)\n",
    "images[0].shape"
   ]
  },
  {
   "cell_type": "code",
   "execution_count": 17,
   "metadata": {
    "collapsed": false
   },
   "outputs": [
    {
     "data": {
      "image/png": "[encoded data removed]",
      "text/plain": [
       "<matplotlib.figure.Figure at 0x7f899862c290>"
      ]
     },
     "metadata": {},
     "output_type": "display_data"
    }
   ],
   "source": [
    "import matplotlib.pyplot as plt\n",
    "fig, axes = plt.subplots(nrows, ncols, figsize=(10, 4))\n",
    "for im, ax in zip(images, axes.flatten()):\n",
    "    ax.imshow(im)\n",
    "    ax.axis('off')"
   ]
  },
  {
   "cell_type": "markdown",
   "metadata": {},
   "source": [
    "# Chainer "
   ]
  },
  {
   "cell_type": "code",
   "execution_count": 18,
   "metadata": {
    "collapsed": false
   },
   "outputs": [
    {
     "data": {
      "text/plain": [
       "'1.5.1'"
      ]
     },
     "execution_count": 18,
     "metadata": {},
     "output_type": "execute_result"
    }
   ],
   "source": [
    "import chainer \n",
    "chainer.__version__"
   ]
  },
  {
   "cell_type": "code",
   "execution_count": 19,
   "metadata": {
    "collapsed": false
   },
   "outputs": [
    {
     "data": {
      "text/plain": [
       "True"
      ]
     },
     "execution_count": 19,
     "metadata": {},
     "output_type": "execute_result"
    }
   ],
   "source": [
    "import chainer.cuda as cuda\n",
    "cuda.available"
   ]
  },
  {
   "cell_type": "code",
   "execution_count": 20,
   "metadata": {
    "collapsed": false
   },
   "outputs": [
    {
     "data": {
      "text/plain": [
       "True"
      ]
     },
     "execution_count": 20,
     "metadata": {},
     "output_type": "execute_result"
    }
   ],
   "source": [
    "cuda.cudnn_enabled"
   ]
  },
  {
   "cell_type": "code",
   "execution_count": 21,
   "metadata": {
    "collapsed": true
   },
   "outputs": [],
   "source": [
    "def data_transformer(x):\n",
    "    # 各レコード 1 次元のデータを 3次元 (3, 32, 32) に変換する \n",
    "    return x.astype(np.float32).reshape(len(x), 3, 32, 32) \n",
    "\n",
    "def labels_transformer(y):\n",
    "    return y.astype(np.int32)"
   ]
  },
  {
   "cell_type": "code",
   "execution_count": 22,
   "metadata": {
    "collapsed": false
   },
   "outputs": [],
   "source": [
    "from chainer import optimizers\n",
    "from chainer import Variable\n",
    "\n",
    "import chainer.functions as F\n",
    "import chainer.links as L\n",
    "\n",
    "class Cifar10(chainer.Chain):\n",
    "\n",
    "    def __init__(self):\n",
    "        super(Cifar10, self).__init__(\n",
    "            conv1=L.Convolution2D(3, 32, 5, stride=1, pad=2),\n",
    "            conv2=L.Convolution2D(32, 32, 5, stride=1, pad=2),\n",
    "            conv3=L.Convolution2D(32, 64, 5, stride=1, pad=2),\n",
    "            fc4=F.Linear(1344, 4096),\n",
    "            fc5=F.Linear(4096, 10),\n",
    "        )\n",
    "\n",
    "    def _internal_call(self, x, t, train=True):\n",
    "        h = F.max_pooling_2d(F.relu(self.conv1(x)), 3, stride=2)\n",
    "        h = F.max_pooling_2d(F.relu(self.conv2(h)), 3, stride=2)\n",
    "        h = F.relu(self.conv3(h))\n",
    "        h = F.spatial_pyramid_pooling_2d(h, 3, F.MaxPooling2D)\n",
    "        h = F.dropout(F.relu(self.fc4(h)), ratio=0.5, train=train)\n",
    "        h = self.fc5(h)\n",
    "        return h\n",
    "\n",
    "    def __call__(self, x, t):\n",
    "        h = self._internal_call(x, t, train=True)\n",
    "        self.loss = F.softmax_cross_entropy(h, t)\n",
    "        self.accuracy = F.accuracy(h, t)\n",
    "        return self.loss\n",
    "\n",
    "    def predict(self, x, t):\n",
    "        \"\"\" データに対する予測値 (ラベル) を返す \"\"\"\n",
    "        h = self._internal_call(x, t, train=False)\n",
    "        self.pred = F.softmax(h)\n",
    "        return self.pred.data.argmax(axis=1)"
   ]
  },
  {
   "cell_type": "code",
   "execution_count": 23,
   "metadata": {
    "collapsed": true
   },
   "outputs": [],
   "source": [
    "optimizer = optimizers.Adam(alpha=0.001)\n",
    "model = Cifar10()"
   ]
  },
  {
   "cell_type": "code",
   "execution_count": 24,
   "metadata": {
    "collapsed": false
   },
   "outputs": [
    {
     "data": {
      "text/plain": [
       "<__main__.Cifar10 at 0x7f88c4487050>"
      ]
     },
     "execution_count": 24,
     "metadata": {},
     "output_type": "execute_result"
    }
   ],
   "source": [
    "if cuda.available:\n",
    "    xp = cuda.cupy \n",
    "    model.to_gpu()\n",
    "else:\n",
    "    xp = np\n",
    "\n",
    "optimizer.setup(model)\n",
    "optimizer.target"
   ]
  },
  {
   "cell_type": "code",
   "execution_count": 25,
   "metadata": {
    "collapsed": true
   },
   "outputs": [],
   "source": [
    "tr_data = data_transformer(data.compute())\n",
    "tr_labels = labels_transformer(labels.compute())\n",
    "te_data = data_transformer(test_data)\n",
    "te_labels = labels_transformer(test_labels)"
   ]
  },
  {
   "cell_type": "code",
   "execution_count": 26,
   "metadata": {
    "collapsed": true
   },
   "outputs": [],
   "source": [
    "import time\n",
    "\n",
    "LOGFILE_HEADER = ['Time elapsed', 'Total num', 'Current num', 'Loss', 'Accuracy']\n",
    "\n",
    "def write_log(logfile, elapsed, total, current, loss, acc):\n",
    "    if logfile is None:\n",
    "        return\n",
    "\n",
    "    if not os.path.exists(logfile):\n",
    "        with open(logfile, 'w') as f:\n",
    "            f.write(','.join(LOGFILE_HEADER))\n",
    "            f.write(os.linesep)\n",
    "        \n",
    "    with open(logfile, 'a') as f:\n",
    "        line = [elapsed, total, current, loss, acc]\n",
    "        line = [str(i) for i in line]\n",
    "        f.write(','.join(line))\n",
    "        f.write(os.linesep)\n"
   ]
  },
  {
   "cell_type": "code",
   "execution_count": 27,
   "metadata": {
    "collapsed": false
   },
   "outputs": [],
   "source": [
    "def run_epoch(optimizer, model, data, labels, train=True,\n",
    "              batch_size=100, start_time=None, logfile=None):\n",
    "\n",
    "    sum_accuracy = 0\n",
    "    sum_loss = 0\n",
    "    num = 0\n",
    "    total = len(labels)\n",
    "    \n",
    "    if start_time is None:\n",
    "        start_time = time.time()\n",
    "    \n",
    "    if train:\n",
    "        indexer = np.random.permutation(len(labels))\n",
    "        data = data[indexer]\n",
    "        labels = labels[indexer]\n",
    "\n",
    "    for index in range(0, total, batch_size):\n",
    "        x = data[index:index+batch_size]\n",
    "        t = labels[index:index+batch_size]\n",
    "\n",
    "        volatile = 'off' if train else 'on'    \n",
    "        x = Variable(xp.asarray(x), volatile=volatile)\n",
    "        t = Variable(xp.asarray(t), volatile=volatile)\n",
    "\n",
    "        if train:\n",
    "            optimizer.update(model, x, t)\n",
    "            sum_loss += float(model.loss.data) * len(t)\n",
    "            sum_accuracy += float(model.accuracy.data) * len(t)\n",
    "        else:\n",
    "            predicted = model.predict(x, t)\n",
    "            acc = float((predicted == t.data).sum())\n",
    "            sum_loss = np.nan\n",
    "            sum_accuracy += acc\n",
    "\n",
    "        num += len(t)   \n",
    "            \n",
    "        if num % 100 == 0:\n",
    "            elapsed = time.time() - start_time\n",
    "            loss = sum_loss / num\n",
    "            acc = sum_accuracy / num\n",
    "            write_log(logfile, elapsed, num, total, loss, acc)\n",
    "            \n",
    "            if num % 10000 == 0:\n",
    "                msg = '{:>8.3f}:\\t{:05d}/{:05d}\\tloss={:.3f}\\tacc={:.3f}'\n",
    "                print(msg.format(elapsed, num, total, loss, acc)) \n",
    "\n",
    "    return sum_accuracy, sum_loss"
   ]
  },
  {
   "cell_type": "code",
   "execution_count": 28,
   "metadata": {
    "collapsed": false,
    "scrolled": true
   },
   "outputs": [
    {
     "name": "stdout",
     "output_type": "stream",
     "text": [
      "******************** Epoch 01 (Train) ********************\n",
      "   4.091:\t10000/50000\tloss=10.164\tacc=0.123\n",
      "   7.329:\t20000/50000\tloss=6.162\tacc=0.150\n",
      "  10.570:\t30000/50000\tloss=4.788\tacc=0.177\n",
      "  13.812:\t40000/50000\tloss=4.064\tacc=0.205\n",
      "  17.056:\t50000/50000\tloss=3.612\tacc=0.231\n",
      "******************** Epoch 01 (Test) *********************\n",
      "  18.140:\t10000/10000\tloss=nan\tacc=0.380\n",
      "******************** Epoch 02 (Train) ********************\n",
      "  21.751:\t10000/50000\tloss=1.746\tacc=0.366\n",
      "  24.985:\t20000/50000\tloss=1.723\tacc=0.372\n",
      "  28.257:\t30000/50000\tloss=1.699\tacc=0.380\n",
      "  31.535:\t40000/50000\tloss=1.682\tacc=0.385\n",
      "  34.794:\t50000/50000\tloss=1.661\tacc=0.393\n",
      "******************** Epoch 02 (Test) *********************\n",
      "  35.877:\t10000/10000\tloss=nan\tacc=0.439\n",
      "******************** Epoch 03 (Train) ********************\n",
      "  39.504:\t10000/50000\tloss=1.520\tacc=0.447\n",
      "  42.754:\t20000/50000\tloss=1.526\tacc=0.445\n",
      "  46.014:\t30000/50000\tloss=1.514\tacc=0.453\n",
      "  49.270:\t40000/50000\tloss=1.508\tacc=0.454\n",
      "  52.527:\t50000/50000\tloss=1.496\tacc=0.459\n",
      "******************** Epoch 03 (Test) *********************\n",
      "  53.588:\t10000/10000\tloss=nan\tacc=0.504\n",
      "******************** Epoch 04 (Train) ********************\n",
      "  57.124:\t10000/50000\tloss=1.404\tacc=0.497\n",
      "  60.386:\t20000/50000\tloss=1.398\tacc=0.496\n",
      "  63.654:\t30000/50000\tloss=1.400\tacc=0.496\n",
      "  66.917:\t40000/50000\tloss=1.392\tacc=0.498\n",
      "  70.180:\t50000/50000\tloss=1.384\tacc=0.502\n",
      "******************** Epoch 04 (Test) *********************\n",
      "  71.248:\t10000/10000\tloss=nan\tacc=0.513\n",
      "******************** Epoch 05 (Train) ********************\n",
      "  74.841:\t10000/50000\tloss=1.326\tacc=0.527\n",
      "  78.106:\t20000/50000\tloss=1.322\tacc=0.524\n",
      "  81.369:\t30000/50000\tloss=1.330\tacc=0.522\n",
      "  84.633:\t40000/50000\tloss=1.322\tacc=0.527\n",
      "  87.898:\t50000/50000\tloss=1.318\tacc=0.530\n",
      "******************** Epoch 05 (Test) *********************\n",
      "  88.982:\t10000/10000\tloss=nan\tacc=0.538\n",
      "******************** Epoch 06 (Train) ********************\n",
      "  92.590:\t10000/50000\tloss=1.241\tacc=0.559\n",
      "  95.857:\t20000/50000\tloss=1.251\tacc=0.556\n",
      "  99.125:\t30000/50000\tloss=1.252\tacc=0.555\n",
      " 102.390:\t40000/50000\tloss=1.253\tacc=0.554\n",
      " 105.654:\t50000/50000\tloss=1.255\tacc=0.553\n",
      "******************** Epoch 06 (Test) *********************\n",
      " 106.722:\t10000/10000\tloss=nan\tacc=0.563\n",
      "******************** Epoch 07 (Train) ********************\n",
      " 110.272:\t10000/50000\tloss=1.220\tacc=0.567\n",
      " 113.538:\t20000/50000\tloss=1.223\tacc=0.569\n",
      " 116.802:\t30000/50000\tloss=1.217\tacc=0.572\n",
      " 120.069:\t40000/50000\tloss=1.216\tacc=0.573\n",
      " 123.332:\t50000/50000\tloss=1.220\tacc=0.572\n",
      "******************** Epoch 07 (Test) *********************\n",
      " 124.398:\t10000/10000\tloss=nan\tacc=0.582\n",
      "******************** Epoch 08 (Train) ********************\n",
      " 127.956:\t10000/50000\tloss=1.191\tacc=0.580\n",
      " 131.226:\t20000/50000\tloss=1.186\tacc=0.582\n",
      " 134.510:\t30000/50000\tloss=1.185\tacc=0.584\n",
      " 137.788:\t40000/50000\tloss=1.183\tacc=0.584\n",
      " 141.075:\t50000/50000\tloss=1.180\tacc=0.585\n",
      "******************** Epoch 08 (Test) *********************\n",
      " 142.144:\t10000/10000\tloss=nan\tacc=0.565\n",
      "******************** Epoch 09 (Train) ********************\n",
      " 145.747:\t10000/50000\tloss=1.137\tacc=0.596\n",
      " 149.019:\t20000/50000\tloss=1.150\tacc=0.593\n",
      " 152.285:\t30000/50000\tloss=1.161\tacc=0.591\n",
      " 155.553:\t40000/50000\tloss=1.164\tacc=0.590\n",
      " 158.824:\t50000/50000\tloss=1.164\tacc=0.589\n",
      "******************** Epoch 09 (Test) *********************\n",
      " 159.908:\t10000/10000\tloss=nan\tacc=0.582\n",
      "******************** Epoch 10 (Train) ********************\n",
      " 163.522:\t10000/50000\tloss=1.138\tacc=0.598\n",
      " 166.794:\t20000/50000\tloss=1.132\tacc=0.598\n",
      " 170.067:\t30000/50000\tloss=1.128\tacc=0.603\n",
      " 173.336:\t40000/50000\tloss=1.136\tacc=0.600\n",
      " 176.608:\t50000/50000\tloss=1.139\tacc=0.599\n",
      "******************** Epoch 10 (Test) *********************\n",
      " 177.675:\t10000/10000\tloss=nan\tacc=0.564\n",
      "******************** Epoch 11 (Train) ********************\n",
      " 181.234:\t10000/50000\tloss=1.082\tacc=0.615\n",
      " 184.503:\t20000/50000\tloss=1.088\tacc=0.613\n",
      " 187.770:\t30000/50000\tloss=1.116\tacc=0.606\n",
      " 191.039:\t40000/50000\tloss=1.118\tacc=0.606\n",
      " 194.309:\t50000/50000\tloss=1.123\tacc=0.604\n",
      "******************** Epoch 11 (Test) *********************\n",
      " 195.377:\t10000/10000\tloss=nan\tacc=0.595\n",
      "******************** Epoch 12 (Train) ********************\n",
      " 198.938:\t10000/50000\tloss=1.090\tacc=0.614\n",
      " 202.210:\t20000/50000\tloss=1.092\tacc=0.614\n",
      " 205.491:\t30000/50000\tloss=1.108\tacc=0.608\n",
      " 208.768:\t40000/50000\tloss=1.109\tacc=0.609\n",
      " 212.053:\t50000/50000\tloss=1.110\tacc=0.610\n",
      "******************** Epoch 12 (Test) *********************\n",
      " 213.120:\t10000/10000\tloss=nan\tacc=0.588\n",
      "******************** Epoch 13 (Train) ********************\n",
      " 216.709:\t10000/50000\tloss=1.056\tacc=0.627\n",
      " 219.970:\t20000/50000\tloss=1.076\tacc=0.621\n",
      " 223.236:\t30000/50000\tloss=1.076\tacc=0.621\n",
      " 226.500:\t40000/50000\tloss=1.080\tacc=0.620\n",
      " 229.765:\t50000/50000\tloss=1.089\tacc=0.618\n",
      "******************** Epoch 13 (Test) *********************\n",
      " 230.847:\t10000/10000\tloss=nan\tacc=0.574\n",
      "******************** Epoch 14 (Train) ********************\n",
      " 234.458:\t10000/50000\tloss=1.051\tacc=0.632\n",
      " 237.720:\t20000/50000\tloss=1.073\tacc=0.628\n",
      " 240.988:\t30000/50000\tloss=1.080\tacc=0.623\n",
      " 244.254:\t40000/50000\tloss=1.081\tacc=0.622\n",
      " 247.517:\t50000/50000\tloss=1.086\tacc=0.621\n",
      "******************** Epoch 14 (Test) *********************\n",
      " 248.585:\t10000/10000\tloss=nan\tacc=0.611\n",
      "******************** Epoch 15 (Train) ********************\n",
      " 252.132:\t10000/50000\tloss=1.023\tacc=0.645\n",
      " 255.396:\t20000/50000\tloss=1.052\tacc=0.635\n",
      " 258.661:\t30000/50000\tloss=1.056\tacc=0.632\n",
      " 261.925:\t40000/50000\tloss=1.068\tacc=0.629\n",
      " 265.189:\t50000/50000\tloss=1.073\tacc=0.626\n",
      "******************** Epoch 15 (Test) *********************\n",
      " 266.257:\t10000/10000\tloss=nan\tacc=0.605\n",
      "******************** Epoch 16 (Train) ********************\n",
      " 269.818:\t10000/50000\tloss=1.033\tacc=0.640\n",
      " 273.080:\t20000/50000\tloss=1.027\tacc=0.641\n",
      " 276.347:\t30000/50000\tloss=1.040\tacc=0.638\n",
      " 279.607:\t40000/50000\tloss=1.049\tacc=0.635\n",
      " 282.865:\t50000/50000\tloss=1.056\tacc=0.633\n",
      "******************** Epoch 16 (Test) *********************\n",
      " 283.938:\t10000/10000\tloss=nan\tacc=0.617\n",
      "******************** Epoch 17 (Train) ********************\n",
      " 287.549:\t10000/50000\tloss=1.020\tacc=0.641\n",
      " 290.811:\t20000/50000\tloss=1.036\tacc=0.638\n",
      " 294.072:\t30000/50000\tloss=1.035\tacc=0.640\n",
      " 297.332:\t40000/50000\tloss=1.047\tacc=0.636\n",
      " 300.596:\t50000/50000\tloss=1.047\tacc=0.637\n",
      "******************** Epoch 17 (Test) *********************\n",
      " 301.664:\t10000/10000\tloss=nan\tacc=0.621\n",
      "******************** Epoch 18 (Train) ********************\n",
      " 305.213:\t10000/50000\tloss=1.003\tacc=0.656\n",
      " 308.474:\t20000/50000\tloss=1.015\tacc=0.652\n",
      " 311.733:\t30000/50000\tloss=1.020\tacc=0.646\n",
      " 314.995:\t40000/50000\tloss=1.028\tacc=0.644\n",
      " 318.250:\t50000/50000\tloss=1.039\tacc=0.642\n",
      "******************** Epoch 18 (Test) *********************\n",
      " 319.319:\t10000/10000\tloss=nan\tacc=0.608\n",
      "******************** Epoch 19 (Train) ********************\n",
      " 322.866:\t10000/50000\tloss=0.972\tacc=0.656\n",
      " 326.126:\t20000/50000\tloss=0.979\tacc=0.654\n",
      " 329.389:\t30000/50000\tloss=0.993\tacc=0.651\n",
      " 332.652:\t40000/50000\tloss=1.014\tacc=0.646\n",
      " 335.914:\t50000/50000\tloss=1.026\tacc=0.642\n",
      "******************** Epoch 19 (Test) *********************\n",
      " 336.981:\t10000/10000\tloss=nan\tacc=0.613\n",
      "******************** Epoch 20 (Train) ********************\n",
      " 340.570:\t10000/50000\tloss=0.993\tacc=0.650\n",
      " 343.832:\t20000/50000\tloss=0.993\tacc=0.650\n",
      " 347.095:\t30000/50000\tloss=1.001\tacc=0.650\n",
      " 350.350:\t40000/50000\tloss=1.005\tacc=0.650\n",
      " 353.611:\t50000/50000\tloss=1.014\tacc=0.649\n",
      "******************** Epoch 20 (Test) *********************\n",
      " 354.691:\t10000/10000\tloss=nan\tacc=0.621\n"
     ]
    }
   ],
   "source": [
    "EPOCHS = 20\n",
    "start_time = time.time()\n",
    "\n",
    "logdir = 'log'\n",
    "\n",
    "if not os.path.exists(logdir):\n",
    "    os.mkdir(logdir)\n",
    "train_log = os.path.join(logdir, 'single_gpu_train.log')\n",
    "test_log = os.path.join(logdir, 'single_gpu_test.log')\n",
    "\n",
    "np.random.seed(71)\n",
    "\n",
    "for epoch in range(0, EPOCHS):\n",
    "    \n",
    "    print('******************** Epoch {:02d} (Train) ********************'.format(epoch + 1))\n",
    "    acc, loss = run_epoch(optimizer, model, tr_data, tr_labels,\n",
    "                          train=True, start_time=start_time, logfile=train_log)\n",
    "  \n",
    "    print('******************** Epoch {:02d} (Test) *********************'.format(epoch + 1))\n",
    "    acc, loss = run_epoch(optimizer, model, te_data, te_labels,\n",
    "                          train=False, start_time=start_time, logfile=test_log)\n",
    "    "
   ]
  },
  {
   "cell_type": "markdown",
   "metadata": {
    "collapsed": true
   },
   "source": [
    "# Multi GPU"
   ]
  },
  {
   "cell_type": "code",
   "execution_count": 29,
   "metadata": {
    "collapsed": false
   },
   "outputs": [],
   "source": [
    "class GPUDistributedGradient(chainer.Chain):\n",
    "\n",
    "    def __init__(self, chain, ngpus):\n",
    "\n",
    "        if isinstance(ngpus, int):\n",
    "            ngpus = list(range(ngpus))\n",
    "        elif isinstance(ngpus, list):\n",
    "            pass\n",
    "        else:\n",
    "            msg = 'ngpus must be int or list, {0} is given'\n",
    "            raise ValueError(msg.format(type(ngpus)))\n",
    "\n",
    "        if len(ngpus) <= 1:\n",
    "            raise ValueError('Target devices must be longer than 1')\n",
    "\n",
    "        self.ngpus = ngpus\n",
    "        self._chains = [chain.copy().to_gpu(i) for i in ngpus]\n",
    "    \n",
    "    @property\n",
    "    def master(self):\n",
    "        \"\"\" 最初の GPU にあるモデルをマスターとする \"\"\"\n",
    "        return self._chains[0]\n",
    "    \n",
    "    def __call__(self, *args):\n",
    "        \"\"\" 引数毎に 'Variable のリスト' を渡す\"\"\"\n",
    "        if len(args) == 0:\n",
    "            raise ValueError('no arguments passed')\n",
    "            \n",
    "        for i, arg in enumerate(args):\n",
    "            \n",
    "            if not isinstance(arg, list):\n",
    "                msg = 'all arguments must be a list: arg #{0}, {1}'\n",
    "                raise ValueError(msg.format(i, arg))\n",
    "                \n",
    "            if len(arg) != len(self.ngpus):\n",
    "                msg = 'all arguments must be a list of length {0}: arg #{1}, length {2}'\n",
    "                raise ValueError(msg.format(len(arg), i, len(self.ngpus)))\n",
    "                \n",
    "            if not all(isinstance(a, Variable) for a in arg):\n",
    "                msg = 'all arguments can only contain Variable: arg#{0}, {1}'\n",
    "                raise ValueError(msg.format(i, a))\n",
    "                \n",
    "        self._losses = [chain(*arg) for chain, arg in zip(self._chains, zip(*args))]\n",
    "        return self._losses[0]\n",
    "    \n",
    "    def predict(self, x, t):\n",
    "        \"\"\" 予測値はマスターで計算し、(まだ) 並列化しない \"\"\"\n",
    "        return self.master.predict(x, t)\n",
    "    \n",
    "    def zerograds(self):\n",
    "        for chain in self._chains:\n",
    "            chain.zerograds()\n",
    "\n",
    "    def backward(self):\n",
    "        for loss in self._losses:\n",
    "            loss.backward()\n",
    "            \n",
    "    def syncgrads(self):\n",
    "        \"\"\" 各 GPU からの勾配をマスターに加算する \"\"\"\n",
    "        for chain in self._chains[1:]:\n",
    "            self.master.addgrads(chain)\n",
    "    \n",
    "    def __enter__(self):\n",
    "        self.zerograds()\n",
    "        return self\n",
    "    \n",
    "    def __exit__(self, exception_type, exception_value, traceback):\n",
    "        self.backward()\n",
    "        self.syncgrads()\n",
    "        return True\n",
    "\n",
    "    def syncparams(self):\n",
    "        \"\"\" マスターのパラメータを他 GPU のモデルにコピーする \"\"\"\n",
    "        for chain in self._chains[1:]:\n",
    "            chain.copyparams(self.master)"
   ]
  },
  {
   "cell_type": "code",
   "execution_count": 30,
   "metadata": {
    "collapsed": false
   },
   "outputs": [
    {
     "data": {
      "text/plain": [
       "<__main__.Cifar10 at 0x7f88c45ee750>"
      ]
     },
     "execution_count": 30,
     "metadata": {},
     "output_type": "execute_result"
    }
   ],
   "source": [
    "NGPU = 4\n",
    "\n",
    "optimizer = optimizers.Adam(alpha=0.001)\n",
    "model = Cifar10()\n",
    "model = GPUDistributedGradient(model, NGPU)\n",
    "\n",
    "optimizer.setup(model.master)\n",
    "optimizer.target"
   ]
  },
  {
   "cell_type": "code",
   "execution_count": 31,
   "metadata": {
    "collapsed": false
   },
   "outputs": [],
   "source": [
    "def run_epoch_parallel(optimizer, model, data, labels, train=True,\n",
    "                       batch_size=100, start_time=None, logfile=None):\n",
    "\n",
    "    sum_accuracy = 0\n",
    "    sum_loss = 0\n",
    "    num = 0\n",
    "    total = len(labels)\n",
    "    \n",
    "    if start_time is None:\n",
    "        start_time = time.time()\n",
    "    \n",
    "    if train:\n",
    "        indexer = np.random.permutation(len(labels))\n",
    "        data = data[indexer]\n",
    "        labels = labels[indexer]\n",
    "        batch_size = batch_size * NGPU\n",
    "\n",
    "    for index in range(0, total, batch_size):\n",
    "        x = data[index:index+batch_size]\n",
    "        t = labels[index:index+batch_size]\n",
    "\n",
    "        if train:\n",
    "            # train 時には 利用する GPU と同じ長さの Variable のリストを渡す\n",
    "            x = [Variable(cuda.to_gpu(v, i)) for i, v in enumerate(np.array_split(x, NGPU))]\n",
    "            t = [Variable(cuda.to_gpu(v, i)) for i, v in enumerate(np.array_split(t, NGPU))]\n",
    "        else:  \n",
    "            x = Variable(xp.asarray(x), volatile='on')\n",
    "            t = Variable(xp.asarray(t), volatile='on')\n",
    "\n",
    "        if train:\n",
    "            with model as m:\n",
    "                m(x, t)\n",
    "            optimizer.update()\n",
    "            model.syncparams()   \n",
    "\n",
    "            n = sum([len(_t) for _t in t])\n",
    "            sum_loss += float(model.master.loss.data) * n\n",
    "            sum_accuracy += float(model.master.accuracy.data) * n\n",
    "            num += n\n",
    "        else:\n",
    "            predicted = model.predict(x, t)\n",
    "            acc = float((predicted == t.data).sum())\n",
    "            sum_loss = np.nan\n",
    "            sum_accuracy += acc\n",
    "            num += len(t)   \n",
    "            \n",
    "        if num % 100 == 0:\n",
    "            elapsed = time.time() - start_time\n",
    "            loss = sum_loss / num\n",
    "            acc = sum_accuracy / num\n",
    "            write_log(logfile, elapsed, num, total, loss, acc)\n",
    "            \n",
    "            if num % 10000 == 0:\n",
    "                msg = '{:>8.3f}:\\t{:05d}/{:05d}\\tloss={:.3f}\\tacc={:.3f}'\n",
    "                print(msg.format(elapsed, num, total, loss, acc)) \n",
    "\n",
    "    return sum_accuracy, sum_loss"
   ]
  },
  {
   "cell_type": "code",
   "execution_count": 33,
   "metadata": {
    "collapsed": false
   },
   "outputs": [
    {
     "name": "stdout",
     "output_type": "stream",
     "text": [
      "******************** Epoch 01 (Train) ********************\n",
      "   2.870:\t10000/50000\tloss=1.438\tacc=0.479\n",
      "   5.439:\t20000/50000\tloss=1.431\tacc=0.480\n",
      "   8.008:\t30000/50000\tloss=1.417\tacc=0.488\n",
      "  10.595:\t40000/50000\tloss=1.416\tacc=0.491\n",
      "  13.155:\t50000/50000\tloss=1.405\tacc=0.492\n",
      "******************** Epoch 01 (Test) *********************\n",
      "  14.243:\t10000/10000\tloss=nan\tacc=0.517\n",
      "******************** Epoch 02 (Train) ********************\n",
      "  17.053:\t10000/50000\tloss=1.319\tacc=0.522\n",
      "  19.534:\t20000/50000\tloss=1.313\tacc=0.531\n",
      "  22.018:\t30000/50000\tloss=1.328\tacc=0.521\n",
      "  24.519:\t40000/50000\tloss=1.316\tacc=0.528\n",
      "  26.997:\t50000/50000\tloss=1.312\tacc=0.528\n",
      "******************** Epoch 02 (Test) *********************\n",
      "  28.067:\t10000/10000\tloss=nan\tacc=0.533\n",
      "******************** Epoch 03 (Train) ********************\n",
      "  30.851:\t10000/50000\tloss=1.237\tacc=0.563\n",
      "  33.314:\t20000/50000\tloss=1.225\tacc=0.559\n",
      "  35.792:\t30000/50000\tloss=1.235\tacc=0.555\n",
      "  38.384:\t40000/50000\tloss=1.246\tacc=0.552\n",
      "  40.869:\t50000/50000\tloss=1.231\tacc=0.556\n",
      "******************** Epoch 03 (Test) *********************\n",
      "  41.960:\t10000/10000\tloss=nan\tacc=0.543\n",
      "******************** Epoch 04 (Train) ********************\n",
      "  44.758:\t10000/50000\tloss=1.134\tacc=0.598\n",
      "  47.225:\t20000/50000\tloss=1.151\tacc=0.596\n",
      "  49.702:\t30000/50000\tloss=1.161\tacc=0.591\n",
      "  52.183:\t40000/50000\tloss=1.161\tacc=0.591\n",
      "  54.664:\t50000/50000\tloss=1.160\tacc=0.594\n",
      "******************** Epoch 04 (Test) *********************\n",
      "  55.738:\t10000/10000\tloss=nan\tacc=0.574\n",
      "******************** Epoch 05 (Train) ********************\n",
      "  58.503:\t10000/50000\tloss=1.121\tacc=0.585\n",
      "  60.981:\t20000/50000\tloss=1.116\tacc=0.594\n",
      "  63.475:\t30000/50000\tloss=1.106\tacc=0.601\n",
      "  65.986:\t40000/50000\tloss=1.107\tacc=0.602\n",
      "  68.489:\t50000/50000\tloss=1.102\tacc=0.603\n",
      "******************** Epoch 05 (Test) *********************\n",
      "  69.570:\t10000/10000\tloss=nan\tacc=0.574\n",
      "******************** Epoch 06 (Train) ********************\n",
      "  72.449:\t10000/50000\tloss=1.052\tacc=0.623\n",
      "  74.925:\t20000/50000\tloss=1.039\tacc=0.625\n",
      "  77.407:\t30000/50000\tloss=1.057\tacc=0.617\n",
      "  79.893:\t40000/50000\tloss=1.052\tacc=0.622\n",
      "  82.381:\t50000/50000\tloss=1.059\tacc=0.619\n",
      "******************** Epoch 06 (Test) *********************\n",
      "  83.468:\t10000/10000\tloss=nan\tacc=0.597\n",
      "******************** Epoch 07 (Train) ********************\n",
      "  86.230:\t10000/50000\tloss=0.988\tacc=0.654\n",
      "  88.717:\t20000/50000\tloss=1.012\tacc=0.642\n",
      "  91.192:\t30000/50000\tloss=0.998\tacc=0.647\n",
      "  93.675:\t40000/50000\tloss=0.997\tacc=0.647\n",
      "  96.164:\t50000/50000\tloss=1.001\tacc=0.646\n",
      "******************** Epoch 07 (Test) *********************\n",
      "  97.239:\t10000/10000\tloss=nan\tacc=0.601\n",
      "******************** Epoch 08 (Train) ********************\n",
      "  99.988:\t10000/50000\tloss=0.923\tacc=0.670\n",
      " 102.456:\t20000/50000\tloss=0.917\tacc=0.673\n",
      " 104.946:\t30000/50000\tloss=0.918\tacc=0.671\n",
      " 107.424:\t40000/50000\tloss=0.936\tacc=0.665\n",
      " 109.901:\t50000/50000\tloss=0.935\tacc=0.666\n",
      "******************** Epoch 08 (Test) *********************\n",
      " 110.974:\t10000/10000\tloss=nan\tacc=0.601\n",
      "******************** Epoch 09 (Train) ********************\n",
      " 113.758:\t10000/50000\tloss=0.875\tacc=0.680\n",
      " 116.244:\t20000/50000\tloss=0.866\tacc=0.690\n",
      " 118.737:\t30000/50000\tloss=0.874\tacc=0.689\n",
      " 121.229:\t40000/50000\tloss=0.888\tacc=0.684\n",
      " 123.724:\t50000/50000\tloss=0.892\tacc=0.682\n",
      "******************** Epoch 09 (Test) *********************\n",
      " 124.815:\t10000/10000\tloss=nan\tacc=0.616\n",
      "******************** Epoch 10 (Train) ********************\n",
      " 127.623:\t10000/50000\tloss=0.838\tacc=0.694\n",
      " 130.113:\t20000/50000\tloss=0.841\tacc=0.697\n",
      " 132.605:\t30000/50000\tloss=0.844\tacc=0.696\n",
      " 135.085:\t40000/50000\tloss=0.866\tacc=0.690\n",
      " 137.570:\t50000/50000\tloss=0.863\tacc=0.691\n",
      "******************** Epoch 10 (Test) *********************\n",
      " 138.644:\t10000/10000\tloss=nan\tacc=0.614\n",
      "******************** Epoch 11 (Train) ********************\n",
      " 141.419:\t10000/50000\tloss=0.778\tacc=0.721\n",
      " 143.902:\t20000/50000\tloss=0.809\tacc=0.714\n",
      " 146.390:\t30000/50000\tloss=0.820\tacc=0.707\n",
      " 148.874:\t40000/50000\tloss=0.819\tacc=0.707\n",
      " 151.361:\t50000/50000\tloss=0.829\tacc=0.705\n",
      "******************** Epoch 11 (Test) *********************\n",
      " 152.436:\t10000/10000\tloss=nan\tacc=0.622\n",
      "******************** Epoch 12 (Train) ********************\n",
      " 155.216:\t10000/50000\tloss=0.797\tacc=0.703\n",
      " 157.700:\t20000/50000\tloss=0.779\tacc=0.717\n",
      " 160.188:\t30000/50000\tloss=0.781\tacc=0.719\n",
      " 162.667:\t40000/50000\tloss=0.785\tacc=0.718\n",
      " 165.155:\t50000/50000\tloss=0.783\tacc=0.719\n",
      "******************** Epoch 12 (Test) *********************\n",
      " 166.229:\t10000/10000\tloss=nan\tacc=0.624\n",
      "******************** Epoch 13 (Train) ********************\n",
      " 168.983:\t10000/50000\tloss=0.706\tacc=0.756\n",
      " 171.471:\t20000/50000\tloss=0.715\tacc=0.750\n",
      " 173.955:\t30000/50000\tloss=0.710\tacc=0.746\n",
      " 176.454:\t40000/50000\tloss=0.727\tacc=0.743\n",
      " 178.956:\t50000/50000\tloss=0.730\tacc=0.741\n",
      "******************** Epoch 13 (Test) *********************\n",
      " 180.033:\t10000/10000\tloss=nan\tacc=0.631\n",
      "******************** Epoch 14 (Train) ********************\n",
      " 182.866:\t10000/50000\tloss=0.643\tacc=0.773\n",
      " 185.356:\t20000/50000\tloss=0.656\tacc=0.761\n",
      " 187.852:\t30000/50000\tloss=0.668\tacc=0.758\n",
      " 190.344:\t40000/50000\tloss=0.675\tacc=0.759\n",
      " 192.819:\t50000/50000\tloss=0.683\tacc=0.756\n",
      "******************** Epoch 14 (Test) *********************\n",
      " 193.909:\t10000/10000\tloss=nan\tacc=0.628\n",
      "******************** Epoch 15 (Train) ********************\n",
      " 196.705:\t10000/50000\tloss=0.620\tacc=0.774\n",
      " 199.183:\t20000/50000\tloss=0.627\tacc=0.774\n",
      " 201.671:\t30000/50000\tloss=0.653\tacc=0.765\n",
      " 204.124:\t40000/50000\tloss=0.658\tacc=0.762\n",
      " 206.611:\t50000/50000\tloss=0.665\tacc=0.760\n",
      "******************** Epoch 15 (Test) *********************\n",
      " 207.688:\t10000/10000\tloss=nan\tacc=0.636\n",
      "******************** Epoch 16 (Train) ********************\n",
      " 210.460:\t10000/50000\tloss=0.599\tacc=0.786\n",
      " 212.940:\t20000/50000\tloss=0.610\tacc=0.784\n",
      " 215.419:\t30000/50000\tloss=0.609\tacc=0.781\n",
      " 217.918:\t40000/50000\tloss=0.607\tacc=0.781\n",
      " 220.418:\t50000/50000\tloss=0.622\tacc=0.778\n",
      "******************** Epoch 16 (Test) *********************\n",
      " 221.493:\t10000/10000\tloss=nan\tacc=0.631\n",
      "******************** Epoch 17 (Train) ********************\n",
      " 224.275:\t10000/50000\tloss=0.540\tacc=0.800\n",
      " 226.765:\t20000/50000\tloss=0.571\tacc=0.793\n",
      " 229.269:\t30000/50000\tloss=0.577\tacc=0.790\n",
      " 231.756:\t40000/50000\tloss=0.584\tacc=0.789\n",
      " 234.261:\t50000/50000\tloss=0.594\tacc=0.787\n",
      "******************** Epoch 17 (Test) *********************\n",
      " 235.337:\t10000/10000\tloss=nan\tacc=0.625\n",
      "******************** Epoch 18 (Train) ********************\n",
      " 238.158:\t10000/50000\tloss=0.550\tacc=0.804\n",
      " 240.639:\t20000/50000\tloss=0.564\tacc=0.800\n",
      " 243.126:\t30000/50000\tloss=0.559\tacc=0.801\n",
      " 245.610:\t40000/50000\tloss=0.568\tacc=0.797\n",
      " 248.096:\t50000/50000\tloss=0.583\tacc=0.792\n",
      "******************** Epoch 18 (Test) *********************\n",
      " 249.187:\t10000/10000\tloss=nan\tacc=0.622\n",
      "******************** Epoch 19 (Train) ********************\n",
      " 252.010:\t10000/50000\tloss=0.532\tacc=0.812\n",
      " 254.500:\t20000/50000\tloss=0.544\tacc=0.808\n",
      " 256.988:\t30000/50000\tloss=0.563\tacc=0.801\n",
      " 259.476:\t40000/50000\tloss=0.573\tacc=0.796\n",
      " 261.962:\t50000/50000\tloss=0.574\tacc=0.797\n",
      "******************** Epoch 19 (Test) *********************\n",
      " 263.031:\t10000/10000\tloss=nan\tacc=0.637\n",
      "******************** Epoch 20 (Train) ********************\n",
      " 265.769:\t10000/50000\tloss=0.498\tacc=0.824\n",
      " 268.249:\t20000/50000\tloss=0.509\tacc=0.821\n",
      " 270.738:\t30000/50000\tloss=0.518\tacc=0.818\n",
      " 273.230:\t40000/50000\tloss=0.524\tacc=0.814\n",
      " 275.717:\t50000/50000\tloss=0.528\tacc=0.813\n",
      "******************** Epoch 20 (Test) *********************\n",
      " 276.785:\t10000/10000\tloss=nan\tacc=0.634\n"
     ]
    }
   ],
   "source": [
    "EPOCHS = 20\n",
    "start_time = time.time()\n",
    "\n",
    "logdir = 'log'\n",
    "if not os.path.exists(logdir):\n",
    "    os.mkdir(logdir)\n",
    "train_log = os.path.join(logdir, 'multi_gpu_train.log')\n",
    "test_log = os.path.join(logdir, 'multi_gpu_test.log')\n",
    "\n",
    "np.random.seed(71)\n",
    "\n",
    "for epoch in range(0, EPOCHS):\n",
    "    \n",
    "    print('******************** Epoch {:02d} (Train) ********************'.format(epoch + 1))\n",
    "    acc, loss = run_epoch_parallel(optimizer, model, tr_data, tr_labels,\n",
    "                          train=True, start_time=start_time, logfile=train_log)\n",
    "  \n",
    "    print('******************** Epoch {:02d} (Test) *********************'.format(epoch + 1))\n",
    "    acc, loss = run_epoch_parallel(optimizer, model, te_data, te_labels,\n",
    "                          train=False, start_time=start_time, logfile=test_log)"
   ]
  }
 ],
 "metadata": {
  "kernelspec": {
   "display_name": "Python 2",
   "language": "python",
   "name": "python2"
  },
  "language_info": {
   "codemirror_mode": {
    "name": "ipython",
    "version": 2
   },
   "file_extension": ".py",
   "mimetype": "text/x-python",
   "name": "python",
   "nbconvert_exporter": "python",
   "pygments_lexer": "ipython2",
   "version": "2.7.11"
  }
 },
 "nbformat": 4,
 "nbformat_minor": 0
}
