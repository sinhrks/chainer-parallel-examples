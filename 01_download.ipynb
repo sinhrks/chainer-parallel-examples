{
 "cells": [
  {
   "cell_type": "code",
   "execution_count": 1,
   "metadata": {
    "collapsed": false
   },
   "outputs": [
    {
     "data": {
      "text/plain": [
       "'1.10.2'"
      ]
     },
     "execution_count": 1,
     "metadata": {},
     "output_type": "execute_result"
    }
   ],
   "source": [
    "import numpy as np\n",
    "np.__version__"
   ]
  },
  {
   "cell_type": "code",
   "execution_count": 2,
   "metadata": {
    "collapsed": false
   },
   "outputs": [
    {
     "data": {
      "text/plain": [
       "'1.5.1'"
      ]
     },
     "execution_count": 2,
     "metadata": {},
     "output_type": "execute_result"
    }
   ],
   "source": [
    "import chainer \n",
    "chainer.__version__"
   ]
  },
  {
   "cell_type": "markdown",
   "metadata": {},
   "source": [
    "# データのダウンロード"
   ]
  },
  {
   "cell_type": "code",
   "execution_count": 3,
   "metadata": {
    "collapsed": false
   },
   "outputs": [],
   "source": [
    "import os\n",
    "import requests\n",
    "\n",
    "fname = 'cifar-10-python.tar.gz'\n",
    "datadir = 'data'\n",
    "\n",
    "os.mkdir(datadir)\n",
    "\n",
    "reader = requests.get('http://www.cs.toronto.edu/~kriz/{0}'.format(fname), stream=True)\n",
    "with open(os.path.join(datadir, fname), 'wb') as f:\n",
    "    for chunk in reader.iter_content(chunk_size=1024):\n",
    "        if chunk:\n",
    "            f.write(chunk)\n",
    "            f.flush()"
   ]
  },
  {
   "cell_type": "code",
   "execution_count": 4,
   "metadata": {
    "collapsed": false
   },
   "outputs": [
    {
     "name": "stdout",
     "output_type": "stream",
     "text": [
      "-rwxr-xr-x kriz/hintgrp          0 2009-06-04 20:47:42 cifar-10-batches-py/\n",
      "-rw-r--r-- kriz/hintgrp   31035696 2009-03-31 04:32:53 cifar-10-batches-py/data_batch_4\n",
      "-rw-r--r-- kriz/hintgrp         88 2009-06-04 20:47:42 cifar-10-batches-py/readme.html\n",
      "-rw-r--r-- kriz/hintgrp   31035526 2009-03-31 04:32:37 cifar-10-batches-py/test_batch\n",
      "-rw-r--r-- kriz/hintgrp   31035999 2009-03-31 04:32:40 cifar-10-batches-py/data_batch_3\n",
      "-rw-r--r-- kriz/hintgrp        158 2009-03-31 04:45:55 cifar-10-batches-py/batches.meta\n",
      "-rw-r--r-- kriz/hintgrp   31035320 2009-03-31 04:32:43 cifar-10-batches-py/data_batch_2\n",
      "-rw-r--r-- kriz/hintgrp   31035623 2009-03-31 04:32:47 cifar-10-batches-py/data_batch_5\n",
      "-rw-r--r-- kriz/hintgrp   31035704 2009-03-31 04:32:50 cifar-10-batches-py/data_batch_1\n"
     ]
    }
   ],
   "source": [
    "import tarfile\n",
    "\n",
    "tf = tarfile.open(os.path.join(datadir, fname), 'r')\n",
    "tf.list()"
   ]
  },
  {
   "cell_type": "code",
   "execution_count": 5,
   "metadata": {
    "collapsed": false
   },
   "outputs": [
    {
     "data": {
      "text/plain": [
       "['test_batch',\n",
       " 'readme.html',\n",
       " 'data_batch_5',\n",
       " 'data_batch_4',\n",
       " 'data_batch_1',\n",
       " 'batches.meta',\n",
       " 'data_batch_3',\n",
       " 'data_batch_2']"
      ]
     },
     "execution_count": 5,
     "metadata": {},
     "output_type": "execute_result"
    }
   ],
   "source": [
    "tf.extractall(datadir)\n",
    "files = os.listdir(os.path.join(datadir, tf.getnames()[0]))\n",
    "files"
   ]
  },
  {
   "cell_type": "code",
   "execution_count": 6,
   "metadata": {
    "collapsed": false
   },
   "outputs": [
    {
     "data": {
      "text/plain": [
       "'cifar-10-batches-py'"
      ]
     },
     "execution_count": 6,
     "metadata": {},
     "output_type": "execute_result"
    }
   ],
   "source": [
    "tarpath = tf.getnames()[0]\n",
    "tarpath"
   ]
  },
  {
   "cell_type": "code",
   "execution_count": 7,
   "metadata": {
    "collapsed": false,
    "scrolled": true
   },
   "outputs": [
    {
     "data": {
      "text/plain": [
       "['data/cifar-10-batches-py/data_batch_5',\n",
       " 'data/cifar-10-batches-py/data_batch_4',\n",
       " 'data/cifar-10-batches-py/data_batch_1',\n",
       " 'data/cifar-10-batches-py/data_batch_3',\n",
       " 'data/cifar-10-batches-py/data_batch_2']"
      ]
     },
     "execution_count": 7,
     "metadata": {},
     "output_type": "execute_result"
    }
   ],
   "source": [
    "datafiles = [os.path.join(datadir, tarpath, f) for f in files if f.startswith('data')]\n",
    "datafiles"
   ]
  },
  {
   "cell_type": "code",
   "execution_count": null,
   "metadata": {
    "collapsed": true
   },
   "outputs": [],
   "source": []
  }
 ],
 "metadata": {
  "kernelspec": {
   "display_name": "Python 2",
   "language": "python",
   "name": "python2"
  },
  "language_info": {
   "codemirror_mode": {
    "name": "ipython",
    "version": 2
   },
   "file_extension": ".py",
   "mimetype": "text/x-python",
   "name": "python",
   "nbconvert_exporter": "python",
   "pygments_lexer": "ipython2",
   "version": "2.7.11"
  }
 },
 "nbformat": 4,
 "nbformat_minor": 0
}
